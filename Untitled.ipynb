{
 "cells": [
  {
   "cell_type": "code",
   "execution_count": null,
   "metadata": {},
   "outputs": [],
   "source": [
    "import matplotlib.pyplot as plt\n",
    "import matplotlib.colors as mcolors\n",
    "import webcolors"
   ]
  },
  {
   "cell_type": "code",
   "execution_count": 36,
   "metadata": {},
   "outputs": [
    {
     "output_type": "execute_result",
     "data": {
      "text/plain": [
       "[((229, 0, 0), '#e50000', 'xkcd:red'),\n",
       " ((2, 143, 30), '#028f1e', 'xkcd:emerald green'),\n",
       " ((128, 0, 128), '#800080', 'purple'),\n",
       " ((6, 82, 255), '#0652ff', 'xkcd:electric blue'),\n",
       " ((255, 140, 0), '#ff8c00', 'darkorange'),\n",
       " ((254, 223, 8), '#fedf08', 'xkcd:dandelion')]"
      ]
     },
     "metadata": {},
     "execution_count": 36
    }
   ],
   "source": [
    "%run flags.py\n",
    "flag = Flag('basic')\n",
    "flag.convert_image(show = True)\n",
    "flag.final_palette"
   ]
  },
  {
   "cell_type": "code",
   "execution_count": 37,
   "metadata": {},
   "outputs": [
    {
     "output_type": "execute_result",
     "data": {
      "text/plain": [
       "[((139, 0, 139), '#8b008b', 'darkmagenta'),\n",
       " ((255, 140, 0), '#ff8c00', 'darkorange'),\n",
       " ((255, 105, 180), '#ff69b4', 'hotpink'),\n",
       " ((56, 2, 130), '#380282', 'xkcd:indigo'),\n",
       " ((6, 177, 196), '#06b1c4', 'xkcd:turquoise blue'),\n",
       " ((255, 0, 0), '#ff0000', 'red'),\n",
       " ((255, 255, 0), '#ffff00', 'yellow'),\n",
       " ((8, 148, 4), '#089404', 'xkcd:true green')]"
      ]
     },
     "metadata": {},
     "execution_count": 37
    }
   ],
   "source": [
    "%run flags.py\n",
    "flag = Flag('original-pride')\n",
    "flag.convert_image(show = True)\n",
    "flag.final_palette"
   ]
  },
  {
   "cell_type": "code",
   "execution_count": 38,
   "metadata": {},
   "outputs": [
    {
     "output_type": "execute_result",
     "data": {
      "text/plain": [
       "[((215, 37, 222), '#d725de', 'xkcd:purple/pink'),\n",
       " ((33, 56, 171), '#2138ab', 'xkcd:sapphire'),\n",
       " ((0, 0, 0), '#000000', 'black'),\n",
       " ((254, 223, 8), '#fedf08', 'xkcd:dandelion'),\n",
       " ((8, 148, 4), '#089404', 'xkcd:true green'),\n",
       " ((255, 0, 0), '#ff0000', 'red'),\n",
       " ((127, 81, 18), '#7f5112', 'xkcd:medium brown'),\n",
       " ((255, 140, 0), '#ff8c00', 'darkorange')]"
      ]
     },
     "metadata": {},
     "execution_count": 38
    }
   ],
   "source": [
    "%run flags.py\n",
    "flag = Flag('pride-poc-inclusive')\n",
    "flag.convert_image(show = True)\n",
    "flag.final_palette"
   ]
  },
  {
   "cell_type": "code",
   "execution_count": 39,
   "metadata": {},
   "outputs": [
    {
     "output_type": "execute_result",
     "data": {
      "text/plain": [
       "[((117, 187, 253), '#75bbfd', 'xkcd:sky blue'),\n",
       " ((253, 176, 192), '#fdb0c0', 'xkcd:soft pink'),\n",
       " ((255, 255, 255), '#ffffff', 'white')]"
      ]
     },
     "metadata": {},
     "execution_count": 39
    }
   ],
   "source": [
    "%run flags.py\n",
    "flag = Flag('transgender')\n",
    "flag.convert_image(show = True)\n",
    "flag.final_palette"
   ]
  },
  {
   "cell_type": "code",
   "execution_count": 40,
   "metadata": {},
   "outputs": [
    {
     "output_type": "execute_result",
     "data": {
      "text/plain": [
       "[((0, 0, 0), '#000000', 'black'),\n",
       " ((255, 255, 255), '#ffffff', 'white'),\n",
       " ((83, 98, 103), '#536267', 'xkcd:gunmetal'),\n",
       " ((101, 55, 0), '#653700', 'xkcd:brown'),\n",
       " ((255, 228, 181), '#ffe4b5', 'moccasin'),\n",
       " ((252, 225, 102), '#fce166', 'xkcd:sand yellow'),\n",
       " ((202, 107, 2), '#ca6b02', 'xkcd:browny orange')]"
      ]
     },
     "metadata": {},
     "execution_count": 40
    }
   ],
   "source": [
    "%run flags.py\n",
    "flag = Flag('bear')\n",
    "flag.convert_image(show = True)\n",
    "flag.final_palette"
   ]
  },
  {
   "cell_type": "code",
   "execution_count": 42,
   "metadata": {},
   "outputs": [
    {
     "output_type": "execute_result",
     "data": {
      "text/plain": [
       "[((0, 0, 0), '#000000', 'black'),\n",
       " ((229, 0, 0), '#e50000', 'xkcd:red'),\n",
       " ((128, 0, 128), '#800080', 'purple'),\n",
       " ((6, 82, 255), '#0652ff', 'xkcd:electric blue'),\n",
       " ((255, 140, 0), '#ff8c00', 'darkorange'),\n",
       " ((255, 253, 1), '#fffd01', 'xkcd:bright yellow'),\n",
       " ((2, 143, 30), '#028f1e', 'xkcd:emerald green'),\n",
       " ((182, 99, 37), '#b66325', 'xkcd:copper'),\n",
       " ((139, 49, 3), '#8b3103', 'xkcd:rust brown'),\n",
       " ((222, 184, 135), '#deb887', 'burlywood'),\n",
       " ((96, 70, 15), '#60460f', 'xkcd:mud brown'),\n",
       " ((52, 28, 2), '#341c02', 'xkcd:dark brown'),\n",
       " ((250, 240, 230), '#faf0e6', 'linen')]"
      ]
     },
     "metadata": {},
     "execution_count": 42
    }
   ],
   "source": [
    "%run flags.py\n",
    "flag = Flag('Qpoc')\n",
    "flag.convert_image(show = True)\n",
    "flag.final_palette"
   ]
  },
  {
   "cell_type": "code",
   "execution_count": 52,
   "metadata": {},
   "outputs": [
    {
     "output_type": "execute_result",
     "data": {
      "text/plain": [
       "{'hotpink': (255, 105, 180),\n",
       " 'xkcd:red': (229, 0, 0),\n",
       " 'darkorange': (255, 140, 0),\n",
       " 'xkcd:dandelion': (254, 223, 8),\n",
       " 'xkcd:emerald green': (2, 143, 30),\n",
       " 'xkcd:turquoise blue': (6, 177, 196),\n",
       " 'xkcd:electric blue': (6, 82, 255),\n",
       " 'xkcd:indigo': (56, 2, 130),\n",
       " 'purple': (128, 0, 128),\n",
       " 'xkcd:medium brown': (127, 81, 18),\n",
       " 'black': (0, 0, 0),\n",
       " 'white': (255, 255, 255),\n",
       " 'xkcd:sky blue': (117, 187, 253),\n",
       " 'xkcd:soft pink': (253, 176, 192),\n",
       " 'xkcd:dark brown': (52, 28, 2),\n",
       " 'xkcd:brown': (101, 55, 0),\n",
       " 'xkcd:rust brown': (139, 49, 3),\n",
       " 'xkcd:browny orange': (202, 107, 2),\n",
       " 'burlywood': (222, 184, 135),\n",
       " 'moccasin': (255, 228, 181),\n",
       " 'xkcd:sand yellow': (252, 225, 102)}"
      ]
     },
     "metadata": {},
     "execution_count": 52
    }
   ],
   "source": [
    "%run flags.py\n",
    "basic_colors = {}\n",
    "for color in base_colors:\n",
    "    rgb = webcolors.hex_to_rgb(mcolors.get_named_colors_mapping()[color])\n",
    "    basic_colors[color] = tuple(rgb)\n",
    "basic_colors"
   ]
  },
  {
   "cell_type": "code",
   "execution_count": 53,
   "metadata": {},
   "outputs": [
    {
     "output_type": "execute_result",
     "data": {
      "text/plain": [
       "{'Qpoc',\n",
       " 'ally',\n",
       " 'basic',\n",
       " 'bear',\n",
       " 'original-pride',\n",
       " 'pride-poc-inclusive',\n",
       " 'progress',\n",
       " 'transgender',\n",
       " 'twospirit'}"
      ]
     },
     "metadata": {},
     "execution_count": 53
    }
   ],
   "source": [
    "set(basic_flags.keys())\n"
   ]
  },
  {
   "cell_type": "code",
   "execution_count": 35,
   "metadata": {},
   "outputs": [
    {
     "output_type": "stream",
     "name": "stdout",
     "text": [
      "{(0, 0, 0): 1, (255, 255, 255): 1, (148, 0, 211): 1, (58, 46, 254): 1, (4, 130, 67): 1, (255, 255, 0): 1, (251, 125, 7): 1, (229, 0, 0): 1, (2, 143, 30): 1, (128, 0, 128): 1, (6, 82, 255): 1, (255, 140, 0): 1, (254, 223, 8): 1, (139, 0, 139): 1, (255, 105, 180): 1, (56, 2, 130): 1, (6, 177, 196): 1, (255, 0, 0): 1, (8, 148, 4): 1, (215, 37, 222): 1, (33, 56, 171): 1, (127, 81, 18): 1, (255, 165, 0): 1, (12, 23, 147): 1, (207, 255, 4): 1, (21, 176, 26): 1, (96, 70, 15): 1, (123, 200, 246): 1, (245, 245, 245): 1, (253, 176, 192): 1, (117, 187, 253): 1, (255, 253, 1): 1, (182, 99, 37): 1, (139, 49, 3): 1, (222, 184, 135): 1, (52, 28, 2): 1, (250, 240, 230): 1, (83, 98, 103): 1, (101, 55, 0): 1, (255, 228, 181): 1, (252, 225, 102): 1, (202, 107, 2): 1}\n"
     ]
    }
   ],
   "source": [
    "%run flags.py\n",
    "palette_count = {}\n",
    "for flag in basic_flags.keys():\n",
    "    flag = Flag(flag)\n",
    "    flag.convert_image(show = False)\n",
    "    for color in flag.final_palette:\n",
    "        if color in palette_count.keys():\n",
    "            palette_count[color[0]] += 1\n",
    "        else:\n",
    "            palette_count[color[0]] = 1\n",
    "print(palette_count)\n",
    "color_swatch(palette_count.keys())\n"
   ]
  },
  {
   "cell_type": "code",
   "execution_count": 114,
   "metadata": {},
   "outputs": [],
   "source": [
    "%run flags.py\n",
    "flag = Flag(main_flags[0])\n",
    "df = flag.palette_detail()\n",
    "for flag in main_flags[1:]:\n",
    "    flag =  Flag(flag)\n",
    "    df = df.append(flag.palette_detail(export = True), ignore_index=True)\n",
    "df.to_csv('output.csv')"
   ]
  },
  {
   "cell_type": "code",
   "execution_count": null,
   "metadata": {},
   "outputs": [],
   "source": [
    "def preview_color():"
   ]
  },
  {
   "cell_type": "code",
   "execution_count": 3,
   "metadata": {},
   "outputs": [
    {
     "output_type": "stream",
     "name": "stdout",
     "text": [
      "       flag        NAME      HEX  Red Green Blue    Cyan Magenta  Yellow  \\\n0  bigender     thistle  #d8bfd8  216   191  216    0.0%  11.57%    0.0%   \n1  bigender  muted pink  #d1768f  209   118  143    0.0%  43.54%  31.58%   \n2  bigender   soft pink  #fdb0c0  253   176  192    0.0%  30.43%  24.11%   \n3  bigender     skyblue  #87ceeb  135   206  235  42.55%  12.34%    0.0%   \n4  bigender       white  #ffffff  255   255  255    0.0%    0.0%    0.0%   \n5  bigender  faded blue  #658cbb  101   140  187  45.99%  25.13%    0.0%   \n\n    Black Preview Marker Swatch  \n0  15.29%                        \n1  18.04%                        \n2   0.78%                        \n3   7.84%                        \n4    0.0%                        \n5  26.67%                        \n"
     ]
    }
   ],
   "source": [
    "%run flags.py\n",
    "flag = Flag('bigender')\n",
    "print(flag.palette_detail())\n",
    "color_swatch(flag.final_palette)\n"
   ]
  },
  {
   "cell_type": "code",
   "execution_count": 11,
   "metadata": {},
   "outputs": [
    {
     "output_type": "stream",
     "name": "stdout",
     "text": [
      "[0, 43, 86, 129, 172, 215, 258]\n[504, 432, 360, 288, 216, 144, 72]\n"
     ]
    }
   ],
   "source": [
    "x = []\n",
    "y = []\n",
    "for num in range(0,7):\n",
    "    x.append(43 * num)\n",
    "    y.append(504-(num * 72))\n",
    "print(x)\n",
    "print(y)"
   ]
  },
  {
   "cell_type": "code",
   "execution_count": 30,
   "metadata": {},
   "outputs": [],
   "source": [
    "colors = [(209, 118, 143), (253, 176, 192), (216, 191, 216), (255, 255, 255), (216, 191, 216), (135, 206, 235), (101, 140, 187)]\n",
    "img= Image.new('RGB', size = (500, 301))\n",
    "draw = ImageDraw.Draw(img)\n",
    "x = 0\n",
    "draw.rectangle([0, 0, 504, 43], fill = colors[0])\n",
    "for num in range(1, 7):\n",
    "    draw.rectangle([0, (43 * num) + 1, 504, (num + 1) * 43], fill = colors[num])\n",
    "# for num in range(0,7):\n",
    "#     draw.rectangle([0, x[num], 504, 43], fill = colors[num])\n",
    "del draw\n",
    "img.show()\n",
    "img.save('flag_images/final/bigender.png')"
   ]
  },
  {
   "cell_type": "code",
   "execution_count": 135,
   "metadata": {},
   "outputs": [
    {
     "output_type": "stream",
     "name": "stdout",
     "text": [
      "abrosexual\n",
      "agender\n",
      "aromantic\n",
      "asexual\n",
      "autosexual\n",
      "basic\n",
      "butch\n",
      "demiboy\n",
      "demigirl\n",
      "genderfluid\n",
      "genderqueer\n",
      "gynephilia\n",
      "lesbian_wlw\n",
      "lithromantic\n",
      "mlm\n",
      "neutrois\n",
      "nonbinary\n",
      "omnisexual\n",
      "original-pride\n",
      "pansexual\n",
      "polysexual\n",
      "pride-poc-inclusive\n",
      "quiromantic\n",
      "skoliosexual\n",
      "transgender\n",
      "trigender\n"
     ]
    }
   ],
   "source": [
    "%run flags.py\n",
    "for item in main_flags:\n",
    "    # print(item)\n",
    "    flag = Flag(item, image_multiplier=2)\n",
    "    if flag.type in ('mirrored', 'simple'):\n",
    "        print(flag.name)\n",
    "        flag.final_image(show = True, save = True)"
   ]
  },
  {
   "cell_type": "code",
   "execution_count": null,
   "metadata": {},
   "outputs": [],
   "source": [
    "{0:300, 1:300, 2:300, 3:300, 4:300, 5:300, 6:300, 7:301, 8:304, 9:306}"
   ]
  }
 ],
 "metadata": {
  "kernelspec": {
   "name": "python382jvsc74a57bd01d781868664204c8a955f26536357b7be2b4c5e9ce6e9c004380ad209a06aa79",
   "display_name": "Python 3.8.2 64-bit ('base': conda)"
  }
 },
 "nbformat": 4,
 "nbformat_minor": 4
}