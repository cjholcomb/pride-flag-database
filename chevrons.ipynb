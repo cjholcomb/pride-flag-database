{
 "metadata": {
  "language_info": {
   "codemirror_mode": {
    "name": "ipython",
    "version": 3
   },
   "file_extension": ".py",
   "mimetype": "text/x-python",
   "name": "python",
   "nbconvert_exporter": "python",
   "pygments_lexer": "ipython3",
   "version": "3.8.2"
  },
  "orig_nbformat": 2,
  "kernelspec": {
   "name": "python382jvsc74a57bd01d781868664204c8a955f26536357b7be2b4c5e9ce6e9c004380ad209a06aa79",
   "display_name": "Python 3.8.2 64-bit ('base': conda)"
  }
 },
 "nbformat": 4,
 "nbformat_minor": 2,
 "cells": [
  {
   "cell_type": "code",
   "execution_count": 42,
   "metadata": {},
   "outputs": [
    {
     "output_type": "stream",
     "name": "stdout",
     "text": [
      "white [(1, 0.45), (0, 0.45), (0, 0), (1, 0)]\npurple [(1, 0.55), (0, 0.55), (0, 0.45), (1, 0.45)]\nlightgrey [(1, 1), (0, 1), (0, 0.55), (1, 0.55)]\nblack [(0.38, 0.5), (0, 1), (0, 0)]\n"
     ]
    }
   ],
   "source": [
    "%run flags.py \n",
    "flag = Flag('demisexual')\n",
    "flag.map_colors()\n",
    "flag.palette_matrix\n",
    "for k, v in flag.points.items():\n",
    "    print(palette_lookup[k], v)\n",
    "# flag.points\n",
    "flag.reconstruct().show()\n",
    "# flag.raw_stats\n",
    "# troubleshooting ={}\n",
    "# for color in flag.raw_stats.keys():\n",
    "#     _hex = webcolors.rgb_to_hex(color)\n",
    "#     xs = list(flag.raw_stats[color]['x_pos'])\n",
    "#     xs.sort()\n",
    "#     troubleshooting[_hex] = xs[-10:]\n",
    "\n",
    "# troubleshooting\n",
    "\n",
    "\n",
    "\n"
   ]
  },
  {
   "cell_type": "code",
   "execution_count": 44,
   "metadata": {},
   "outputs": [],
   "source": [
    "%run flags.py\n",
    "for pride_flag in main_flags:\n",
    "    flag = Flag(pride_flag)\n",
    "    flag.final_image(save = True)"
   ]
  }
 ]
}