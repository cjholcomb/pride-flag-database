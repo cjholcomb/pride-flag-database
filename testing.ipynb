{
 "cells": [
  {
   "cell_type": "code",
   "execution_count": 42,
   "metadata": {},
   "outputs": [
    {
     "output_type": "execute_result",
     "data": {
      "text/plain": [
       "8"
      ]
     },
     "metadata": {},
     "execution_count": 42
    }
   ],
   "source": [
    "from PIL import Image, ImageDraw\n",
    "import argparse\n",
    "import sys\n",
    "import colorsys\n",
    "import webcolors\n",
    "import re\n",
    "import os\n",
    "import pandas as pd\n",
    "from collections import defaultdict\n",
    "from math import sqrt\n",
    "\n",
    "%run flags_database.py\n",
    "\n",
    "def filter_distances(colors, threshold = 10):\n",
    "    color_list = [list(colors.keys())[0]]\n",
    "    for color in colors.keys():\n",
    "        distances = []\n",
    "        for item in color_list:\n",
    "            distances.append(color_distance(item, color))\n",
    "        if min(distances) >= threshold:\n",
    "            color_list.append(color)\n",
    "    return len(color_list)\n",
    "    # for color, count in colors.items():\n",
    "\n",
    "    \n",
    "flag = Flag('ally')\n",
    "palette = flag.base_palette()\n",
    "filter_distances(flag.raw_colors, threshold=140)\n",
    "\n"
   ]
  },
  {
   "cell_type": "code",
   "execution_count": 63,
   "metadata": {},
   "outputs": [
    {
     "output_type": "execute_result",
     "data": {
      "text/plain": [
       "'c0.0 m29.28 y22.52 k12.94'"
      ]
     },
     "metadata": {},
     "execution_count": 63
    }
   ],
   "source": [
    "%run flags_database.py\n",
    "color = 0\n",
    "palette = 'xkcd'\n",
    "flag = Flag('abrosexual')\n",
    "flag.base_colors()\n",
    "flag.derive_palettes()\n",
    "flag.convert_images()\n",
    "swatch = flag.palette_matrix[palette]\n",
    "flag_name = flag.name\n",
    "color_tuple = tuple(swatch[color])\n",
    "color_hex = \"#\" + rgb_to_hex(color_tuple)\n",
    "color_rgb = rgb_text(color_tuple)\n",
    "color_name = palettes[palette]['hex_to_name'][color_hex]\n",
    "color_cmyk = rgb_to_cmyk(color_tuple)\n"
   ]
  },
  {
   "cell_type": "code",
   "execution_count": 73,
   "metadata": {},
   "outputs": [
    {
     "output_type": "execute_result",
     "data": {
      "text/plain": [
       "    flag_name            NAME             RGB                       CMYK  \\\n",
       "0  abrosexual      faded pink  r222 g157 b172  c0.0 m29.28 y22.52 k12.94   \n",
       "1  abrosexual       dark pink   r203 g65 b107  c0.0 m67.98 y47.29 k20.39   \n",
       "2  abrosexual  pale turquoise  r165 g251 b213   c34.26 m0.0 y15.14 k1.57   \n",
       "3  abrosexual      soft green  r111 g194 b118  c42.78 m0.0 y39.18 k23.92   \n",
       "\n",
       "       HEX Marker Swatch  \n",
       "0  #de9dac                \n",
       "1  #cb416b                \n",
       "2  #a5fbd5                \n",
       "3  #6fc276                "
      ],
      "text/html": "<div>\n<style scoped>\n    .dataframe tbody tr th:only-of-type {\n        vertical-align: middle;\n    }\n\n    .dataframe tbody tr th {\n        vertical-align: top;\n    }\n\n    .dataframe thead th {\n        text-align: right;\n    }\n</style>\n<table border=\"1\" class=\"dataframe\">\n  <thead>\n    <tr style=\"text-align: right;\">\n      <th></th>\n      <th>flag_name</th>\n      <th>NAME</th>\n      <th>RGB</th>\n      <th>CMYK</th>\n      <th>HEX</th>\n      <th>Marker</th>\n      <th>Swatch</th>\n    </tr>\n  </thead>\n  <tbody>\n    <tr>\n      <th>0</th>\n      <td>abrosexual</td>\n      <td>faded pink</td>\n      <td>r222 g157 b172</td>\n      <td>c0.0 m29.28 y22.52 k12.94</td>\n      <td>#de9dac</td>\n      <td></td>\n      <td></td>\n    </tr>\n    <tr>\n      <th>1</th>\n      <td>abrosexual</td>\n      <td>dark pink</td>\n      <td>r203 g65 b107</td>\n      <td>c0.0 m67.98 y47.29 k20.39</td>\n      <td>#cb416b</td>\n      <td></td>\n      <td></td>\n    </tr>\n    <tr>\n      <th>2</th>\n      <td>abrosexual</td>\n      <td>pale turquoise</td>\n      <td>r165 g251 b213</td>\n      <td>c34.26 m0.0 y15.14 k1.57</td>\n      <td>#a5fbd5</td>\n      <td></td>\n      <td></td>\n    </tr>\n    <tr>\n      <th>3</th>\n      <td>abrosexual</td>\n      <td>soft green</td>\n      <td>r111 g194 b118</td>\n      <td>c42.78 m0.0 y39.18 k23.92</td>\n      <td>#6fc276</td>\n      <td></td>\n      <td></td>\n    </tr>\n  </tbody>\n</table>\n</div>"
     },
     "metadata": {},
     "execution_count": 73
    }
   ],
   "source": [
    "%run flags_database.py\n",
    "flag_dataframe('abrosexual', 'xkcd')\n",
    "\n"
   ]
  },
  {
   "cell_type": "code",
   "execution_count": null,
   "metadata": {
    "scrolled": false
   },
   "outputs": [],
   "source": []
  },
  {
   "cell_type": "code",
   "execution_count": null,
   "metadata": {},
   "outputs": [],
   "source": []
  }
 ],
 "metadata": {
  "kernelspec": {
   "name": "python38364bitbaseconda55feb2f7aa2c4cc0b25b94f79384851f",
   "display_name": "Python 3.8.2 64-bit ('base': conda)"
  },
  "language_info": {
   "codemirror_mode": {
    "name": "ipython",
    "version": 3
   },
   "file_extension": ".py",
   "mimetype": "text/x-python",
   "name": "python",
   "nbconvert_exporter": "python",
   "pygments_lexer": "ipython3",
   "version": "3.8.2"
  },
  "metadata": {
   "interpreter": {
    "hash": "1d781868664204c8a955f26536357b7be2b4c5e9ce6e9c004380ad209a06aa79"
   }
  }
 },
 "nbformat": 4,
 "nbformat_minor": 4
}