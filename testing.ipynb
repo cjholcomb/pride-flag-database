{
 "cells": [
  {
   "cell_type": "code",
   "execution_count": null,
   "metadata": {},
   "outputs": [],
   "source": [
    "from PIL import Image, ImageDraw\n",
    "import argparse\n",
    "import sys\n",
    "import colorsys\n",
    "import webcolors\n",
    "import re\n",
    "import os\n",
    "import pandas as pd\n",
    "from collections import defaultdict\n",
    "from math import sqrt\n",
    "\n",
    "%run flags_database.py\n",
    "\n",
    "def filter_distances(colors, threshold = 10):\n",
    "    color_list = [list(colors.keys())[0]]\n",
    "    for color in colors.keys():\n",
    "        distances = []\n",
    "        for item in color_list:\n",
    "            distances.append(color_distance(item, color))\n",
    "        if min(distances) >= threshold:\n",
    "            color_list.append(color)\n",
    "    return len(color_list)\n",
    "    # for color, count in colors.items():\n",
    "\n",
    "    \n",
    "flag = Flag('ally')\n",
    "palette = flag.base_palette()\n",
    "filter_distances(flag.raw_colors, threshold=140)\n",
    "\n"
   ]
  },
  {
   "cell_type": "code",
   "execution_count": null,
   "metadata": {},
   "outputs": [],
   "source": [
    "%run flags_database.py\n",
    "color = 0\n",
    "palette = 'xkcd'\n",
    "flag = Flag('abrosexual')\n",
    "flag.base_colors()\n",
    "flag.derive_palettes()\n",
    "flag.convert_images()\n",
    "swatch = flag.palette_matrix[palette]\n",
    "flag_name = flag.name\n",
    "color_tuple = tuple(swatch[color])\n",
    "color_hex = \"#\" + rgb_to_hex(color_tuple)\n",
    "color_rgb = rgb_text(color_tuple)\n",
    "color_name = palettes[palette]['hex_to_name'][color_hex]\n",
    "color_cmyk = rgb_to_cmyk(color_tuple)\n"
   ]
  },
  {
   "cell_type": "code",
   "execution_count": null,
   "metadata": {},
   "outputs": [],
   "source": [
    "%run flags_database.py\n",
    "flag = Flag('queer')\n",
    "flag.convert_images()"
   ]
  },
  {
   "cell_type": "code",
   "execution_count": null,
   "metadata": {},
   "outputs": [],
   "source": [
    "%run flags_database.py\n",
    "flag = Flag('queer')\n",
    "flag.derive_palettes()\n",
    "flag.base_palette\n"
   ]
  },
  {
   "cell_type": "code",
   "execution_count": null,
   "metadata": {},
   "outputs": [],
   "source": [
    "webcolors.hex_to_rgb('#00035b')"
   ]
  },
  {
   "cell_type": "code",
   "execution_count": null,
   "metadata": {},
   "outputs": [],
   "source": [
    "%run flags_database.py\n",
    "list(map(webcolors.hex_to_rgb, palettes['xkcd']['hex_to_name'].keys()))\n",
    "\n"
   ]
  },
  {
   "cell_type": "code",
   "execution_count": null,
   "metadata": {
    "scrolled": false
   },
   "outputs": [],
   "source": [
    "%run flags_database.py\n",
    "palette = 'xkcd'\n",
    "medium = 'Marker'\n",
    "progress = False\n",
    "flag = Flag('abrosexual')\n",
    "flag.convert_images()\n",
    "swatch = flag.palette_matrix[palette]\n",
    "columns = ['flag_name', 'NAME', 'HEX', 'Red', 'Green', 'Blue', 'Cyan', 'Magenta', 'Yellow', 'Black', medium, 'Swatch']\n",
    "df = pd.DataFrame(columns = columns)\n",
    "for color in swatch:\n",
    "    flag_name = flag.name\n",
    "    color_tuple = tuple(color)\n",
    "    color_hex = \"#\" + rgb_to_hex(color_tuple)\n",
    "    color_red = color_tuple[0]\n",
    "    color_green = color_tuple[1]\n",
    "    color_blue = color_tuple[2]\n",
    "    color_name = palettes[palette]['hex_to_name'][color_hex]\n",
    "    print(color_name)\n",
    "    color_cyan, color_magenta, color_yellow, color_black = rgb_to_cmyk(color_tuple)\n",
    "    row = [flag_name, color_name, color_hex, color_red, color_green, color_blue, color_cyan, color_magenta, color_yellow, color_black, '', '']\n",
    "    df = df.append(dict(zip(columns, row)), ignore_index= True)\n",
    "flag = Flag('agender')\n",
    "flag.convert_images()\n",
    "swatch = flag.palette_matrix[palette]\n",
    "for color in swatch:\n",
    "    flag_name = flag.name\n",
    "    color_tuple = tuple(color)\n",
    "    color_hex = \"#\" + rgb_to_hex(color_tuple)\n",
    "    color_red = color_tuple[0]\n",
    "    color_green = color_tuple[1]\n",
    "    color_blue = color_tuple[2]\n",
    "    color_name = palettes[palette]['hex_to_name'][color_hex]\n",
    "    print(color_name)\n",
    "    color_cyan, color_magenta, color_yellow, color_black = rgb_to_cmyk(color_tuple)\n",
    "    row = [flag_name, color_name, color_hex, color_red, color_green, color_blue, color_cyan, color_magenta, color_yellow, color_black, '', '']\n",
    "    df = df.append(dict(zip(columns, row)), ignore_index= True)\n",
    "df\n",
    "\n"
   ]
  },
  {
   "cell_type": "code",
   "execution_count": 37,
   "metadata": {},
   "outputs": [
    {
     "output_type": "execute_result",
     "data": {
      "text/plain": [
       "[(217, 68, 110),\n",
       " (255, 255, 255),\n",
       " (117, 202, 147),\n",
       " (180, 228, 204),\n",
       " (230, 149, 182)]"
      ]
     },
     "metadata": {},
     "execution_count": 37
    }
   ],
   "source": [
    "exclusions = {}\n",
    "%run flags.py\n",
    "flag = Flag('abrosexual')\n",
    "flag.raw_palette()\n",
    "flag.base_palette()\n",
    "\n",
    "\n"
   ]
  },
  {
   "cell_type": "code",
   "execution_count": 56,
   "metadata": {},
   "outputs": [
    {
     "output_type": "error",
     "ename": "FileNotFoundError",
     "evalue": "[Errno 2] No such file or directory: 'flag_images/flat/abrosexual_flat.png'",
     "traceback": [
      "\u001b[0;31m---------------------------------------------------------------------------\u001b[0m",
      "\u001b[0;31mFileNotFoundError\u001b[0m                         Traceback (most recent call last)",
      "\u001b[0;32m<ipython-input-56-49395179cf29>\u001b[0m in \u001b[0;36m<module>\u001b[0;34m\u001b[0m\n\u001b[1;32m      3\u001b[0m \u001b[0mflag\u001b[0m\u001b[0;34m.\u001b[0m\u001b[0mbase_palette\u001b[0m\u001b[0;34m(\u001b[0m\u001b[0;34m)\u001b[0m\u001b[0;34m\u001b[0m\u001b[0;34m\u001b[0m\u001b[0m\n\u001b[1;32m      4\u001b[0m \u001b[0mflag\u001b[0m\u001b[0;34m.\u001b[0m\u001b[0mpalette_conversion\u001b[0m\u001b[0;34m(\u001b[0m\u001b[0;34m)\u001b[0m\u001b[0;34m\u001b[0m\u001b[0;34m\u001b[0m\u001b[0m\n\u001b[0;32m----> 5\u001b[0;31m \u001b[0mflag\u001b[0m\u001b[0;34m.\u001b[0m\u001b[0mflat_image\u001b[0m\u001b[0;34m(\u001b[0m\u001b[0mshow\u001b[0m \u001b[0;34m=\u001b[0m \u001b[0;32mTrue\u001b[0m\u001b[0;34m,\u001b[0m \u001b[0msave\u001b[0m \u001b[0;34m=\u001b[0m \u001b[0;32mTrue\u001b[0m\u001b[0;34m)\u001b[0m\u001b[0;34m\u001b[0m\u001b[0;34m\u001b[0m\u001b[0m\n\u001b[0m\u001b[1;32m      6\u001b[0m \u001b[0;34m\u001b[0m\u001b[0m\n\u001b[1;32m      7\u001b[0m \u001b[0;34m\u001b[0m\u001b[0m\n",
      "\u001b[0;32m~/Documents/pride-flag-database/flags.py\u001b[0m in \u001b[0;36mflat_image\u001b[0;34m(self, show, save)\u001b[0m\n\u001b[1;32m    117\u001b[0m         \u001b[0;32mif\u001b[0m \u001b[0msave\u001b[0m\u001b[0;34m:\u001b[0m\u001b[0;34m\u001b[0m\u001b[0;34m\u001b[0m\u001b[0m\n\u001b[1;32m    118\u001b[0m             \u001b[0mfilepath\u001b[0m \u001b[0;34m=\u001b[0m \u001b[0;34m'flag_images/flat/'\u001b[0m \u001b[0;34m+\u001b[0m \u001b[0mself\u001b[0m\u001b[0;34m.\u001b[0m\u001b[0mname\u001b[0m \u001b[0;34m+\u001b[0m \u001b[0;34m'_flat.png'\u001b[0m\u001b[0;34m\u001b[0m\u001b[0;34m\u001b[0m\u001b[0m\n\u001b[0;32m--> 119\u001b[0;31m             \u001b[0mflat_image\u001b[0m\u001b[0;34m.\u001b[0m\u001b[0msave\u001b[0m\u001b[0;34m(\u001b[0m\u001b[0mfilepath\u001b[0m\u001b[0;34m,\u001b[0m \u001b[0mformat\u001b[0m\u001b[0;34m=\u001b[0m\u001b[0;34m'png'\u001b[0m\u001b[0;34m)\u001b[0m\u001b[0;34m\u001b[0m\u001b[0;34m\u001b[0m\u001b[0m\n\u001b[0m\u001b[1;32m    120\u001b[0m \u001b[0;34m\u001b[0m\u001b[0m\n\u001b[1;32m    121\u001b[0m     \u001b[0;32mdef\u001b[0m \u001b[0mpalette_conversion\u001b[0m\u001b[0;34m(\u001b[0m\u001b[0mself\u001b[0m\u001b[0;34m)\u001b[0m\u001b[0;34m:\u001b[0m\u001b[0;34m\u001b[0m\u001b[0;34m\u001b[0m\u001b[0m\n",
      "\u001b[0;32m~/anaconda3/lib/python3.8/site-packages/PIL/Image.py\u001b[0m in \u001b[0;36msave\u001b[0;34m(self, fp, format, **params)\u001b[0m\n\u001b[1;32m   2159\u001b[0m                 \u001b[0mfp\u001b[0m \u001b[0;34m=\u001b[0m \u001b[0mbuiltins\u001b[0m\u001b[0;34m.\u001b[0m\u001b[0mopen\u001b[0m\u001b[0;34m(\u001b[0m\u001b[0mfilename\u001b[0m\u001b[0;34m,\u001b[0m \u001b[0;34m\"r+b\"\u001b[0m\u001b[0;34m)\u001b[0m\u001b[0;34m\u001b[0m\u001b[0;34m\u001b[0m\u001b[0m\n\u001b[1;32m   2160\u001b[0m             \u001b[0;32melse\u001b[0m\u001b[0;34m:\u001b[0m\u001b[0;34m\u001b[0m\u001b[0;34m\u001b[0m\u001b[0m\n\u001b[0;32m-> 2161\u001b[0;31m                 \u001b[0mfp\u001b[0m \u001b[0;34m=\u001b[0m \u001b[0mbuiltins\u001b[0m\u001b[0;34m.\u001b[0m\u001b[0mopen\u001b[0m\u001b[0;34m(\u001b[0m\u001b[0mfilename\u001b[0m\u001b[0;34m,\u001b[0m \u001b[0;34m\"w+b\"\u001b[0m\u001b[0;34m)\u001b[0m\u001b[0;34m\u001b[0m\u001b[0;34m\u001b[0m\u001b[0m\n\u001b[0m\u001b[1;32m   2162\u001b[0m \u001b[0;34m\u001b[0m\u001b[0m\n\u001b[1;32m   2163\u001b[0m         \u001b[0;32mtry\u001b[0m\u001b[0;34m:\u001b[0m\u001b[0;34m\u001b[0m\u001b[0;34m\u001b[0m\u001b[0m\n",
      "\u001b[0;31mFileNotFoundError\u001b[0m: [Errno 2] No such file or directory: 'flag_images/flat/abrosexual_flat.png'"
     ]
    }
   ],
   "source": [
    "%run flags.py\n",
    "flag = Flag('abrosexual')\n",
    "flag.base_palette()\n",
    "flag.palette_conversion()\n",
    "flag.flat_image(show = True, save = True)\n",
    "\n",
    "\n",
    "\n",
    "# palette = 'xkcd'\n",
    "# color = (217, 68, 110)\n",
    "# conversion = {}\n",
    "\n",
    "# for palette in palettes.keys():\n",
    "#     conversion[palette] = {}\n",
    "#     palette_choices = list(map(webcolors.hex_to_rgb, palettes[palette]['hex_to_name'].keys()))\n",
    "#     for color in flag.base_colors:\n",
    "#         distances = {}\n",
    "#         for choice in palette_choices:\n",
    "#             distances[choice] = color_distance(color, choice)\n",
    "#         smallest_distance = min(list(distances.values()))\n",
    "#         right_choice =[key for key, value in distances.items() if value == smallest_distance]\n",
    "#         conversion[palette][color] = tuple(right_choice[0])\n",
    "\n",
    "# conversion\n",
    "# closest_color((117, 202, 147), [(205, 92, 92),(255, 255, 255),(102, 205, 170),(176, 224, 230),(221, 160, 221)])\n"
   ]
  }
 ],
 "metadata": {
  "kernelspec": {
   "name": "python38364bitbaseconda55feb2f7aa2c4cc0b25b94f79384851f",
   "display_name": "Python 3.8.2 64-bit ('base': conda)"
  },
  "language_info": {
   "codemirror_mode": {
    "name": "ipython",
    "version": 3
   },
   "file_extension": ".py",
   "mimetype": "text/x-python",
   "name": "python",
   "nbconvert_exporter": "python",
   "pygments_lexer": "ipython3",
   "version": "3.8.2"
  },
  "metadata": {
   "interpreter": {
    "hash": "1d781868664204c8a955f26536357b7be2b4c5e9ce6e9c004380ad209a06aa79"
   }
  }
 },
 "nbformat": 4,
 "nbformat_minor": 4
}