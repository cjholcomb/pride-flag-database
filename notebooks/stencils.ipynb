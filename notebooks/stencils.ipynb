{
 "metadata": {
  "language_info": {
   "codemirror_mode": {
    "name": "ipython",
    "version": 3
   },
   "file_extension": ".py",
   "mimetype": "text/x-python",
   "name": "python",
   "nbconvert_exporter": "python",
   "pygments_lexer": "ipython3",
   "version": "3.8.2"
  },
  "orig_nbformat": 2,
  "kernelspec": {
   "name": "python382jvsc74a57bd01d781868664204c8a955f26536357b7be2b4c5e9ce6e9c004380ad209a06aa79",
   "display_name": "Python 3.8.2 64-bit ('anaconda3': virtualenv)"
  }
 },
 "nbformat": 4,
 "nbformat_minor": 2,
 "cells": [
  {
   "cell_type": "code",
   "execution_count": 9,
   "metadata": {},
   "outputs": [
    {
     "output_type": "stream",
     "name": "stdout",
     "text": [
      "13\n"
     ]
    }
   ],
   "source": [
    "from PIL import Image, ImageFilter\n",
    "\n",
    "\n",
    "%run flags_database.py\n",
    "\n",
    "flag = Flag('Qpoc')\n",
    "flag.convert_images()\n",
    "flag.image_matrix['flat'].show()\n",
    "print(flag.num_colors)\n",
    "  \n",
    "  \n",
    "# # Opening the image (R prefixed to string\n",
    "# # in order to deal with '\\' in paths)\n",
    "# image = Image.open(r\"flag_images/Qpoc.jpg\")\n",
    "  \n",
    "# # Converting the image to greyscale, as edge detection \n",
    "# # requires input image to be of mode = Greyscale (L)\n",
    "# image = image.convert(\"L\")\n",
    "  \n",
    "# # Detecting Edges on the Image using the argument ImageFilter.FIND_EDGES\n",
    "# image = image.filter(ImageFilter.FIND_EDGES)\n",
    "  \n",
    "# # Saving the Image Under the name Edge_Sample.png\n",
    "# image.show()"
   ]
  }
 ]
}