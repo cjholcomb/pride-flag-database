{
 "metadata": {
  "language_info": {
   "codemirror_mode": {
    "name": "ipython",
    "version": 3
   },
   "file_extension": ".py",
   "mimetype": "text/x-python",
   "name": "python",
   "nbconvert_exporter": "python",
   "pygments_lexer": "ipython3",
   "version": "3.8.2"
  },
  "orig_nbformat": 2,
  "kernelspec": {
   "name": "python382jvsc74a57bd01d781868664204c8a955f26536357b7be2b4c5e9ce6e9c004380ad209a06aa79",
   "display_name": "Python 3.8.2 64-bit ('base': conda)"
  }
 },
 "nbformat": 4,
 "nbformat_minor": 2,
 "cells": [
  {
   "cell_type": "code",
   "execution_count": 6,
   "metadata": {},
   "outputs": [
    {
     "output_type": "stream",
     "name": "stdout",
     "text": [
      "dict_keys(['abrosexual', 'agender', 'androgynous', 'androphilia', 'aromantic', 'asexual', 'autosexual', 'basic', 'bear', 'bigender', 'bisexual', 'butch', 'demiboy', 'demigirl', 'demisexual', 'genderfluid', 'genderqueer', 'gynephilia', 'intersex', 'lesbian_wlw', 'labrys', 'lipstick', 'lithromantic', 'mlm', 'mlm(7-stripe)', 'neutrois', 'nonbinary', 'omnisexual', 'original-pride', 'pansexual', 'polyamory', 'polysexual', 'pride-poc-inclusive', 'progress', 'Qpoc', 'queer', 'quiromantic', 'skoliosexual', 'transgender', 'trigender', 'twink', 'twospirit'])\n"
     ]
    }
   ],
   "source": [
    "%run flags.py\n",
    "pride_data = existing_data()\n",
    "make_swatches(pride_data)\n"
   ]
  },
  {
   "cell_type": "code",
   "execution_count": 67,
   "metadata": {},
   "outputs": [
    {
     "output_type": "execute_result",
     "data": {
      "text/plain": [
       "[(0, 0, 0), (33, 71, 97), (255, 255, 255), (213, 182, 10)]"
      ]
     },
     "metadata": {},
     "execution_count": 67
    }
   ],
   "source": [
    "%run flags.py\n",
    "flag = Flag('watersports', folder = 'flag_images/fetish')\n",
    "img = flag.final_image(show = False, save = True)\n",
    "color_swatch(flag.palette_matrix.values())\n",
    "list(flag.palette_matrix.values())\n",
    "# extract_symbol(img, pride_data['ageplay']['palette_rgb'], pride_data['ageplay']['symbol_palette'])\n",
    "\n"
   ]
  },
  {
   "cell_type": "code",
   "execution_count": 5,
   "metadata": {},
   "outputs": [
    {
     "output_type": "execute_result",
     "data": {
      "text/plain": [
       "[(0, 0, 0),\n",
       " (98, 65, 199),\n",
       " (0, 0, 0),\n",
       " (98, 65, 199),\n",
       " (254, 70, 165),\n",
       " (98, 65, 199),\n",
       " (0, 0, 0),\n",
       " (98, 65, 199),\n",
       " (0, 0, 0),\n",
       " (254, 70, 165)]"
      ]
     },
     "metadata": {},
     "execution_count": 5
    }
   ],
   "source": [
    "lst = []\n",
    "for color in [(0, 0, 0), (98, 65, 199), (0, 0, 0), (98, 65, 199), (255, 51, 153), (98, 65, 199), (0, 0, 0), (98, 65, 199), (0, 0, 0), (255, 51, 153)]:\n",
    "    lst.append(closest_color(color, palette_lookup.keys()))\n",
    "lst"
   ]
  },
  {
   "cell_type": "code",
   "execution_count": null,
   "metadata": {},
   "outputs": [],
   "source": [
    "flag = Flag('androgynous')\n",
    "flag.flatten_image()\n",
    "pride_data[flag.name]['palette_rgb'] = flag.final_palette\n",
    "pride_data[flag.name]['palette_name'] =  [palette_lookup[x] for x in flag.final_palette]\n",
    "color_swatch(pride_data['androgynous']['palette_rgb'])\n",
    "\n"
   ]
  },
  {
   "cell_type": "code",
   "execution_count": null,
   "metadata": {},
   "outputs": [],
   "source": [
    "pride_data['asexual']['palette_rgb']\n",
    "pride_data['asexual']['palette_rgb'] = [(0, 0, 0), (169, 169, 169), (255, 255, 255), (128, 0, 128)]\n",
    "pride_data['asexual']['palette_name'] =  [palette_lookup[x] for x in pride_data['asexual']['palette_rgb']]\n",
    "color_swatch(pride_data['asexual']['palette_rgb'])\n"
   ]
  },
  {
   "cell_type": "code",
   "execution_count": null,
   "metadata": {},
   "outputs": [],
   "source": [
    "closest_color((84, 83, 83), palette_lookup.keys())"
   ]
  },
  {
   "cell_type": "code",
   "execution_count": null,
   "metadata": {},
   "outputs": [],
   "source": [
    "color_swatch(basic_colors.values())"
   ]
  },
  {
   "cell_type": "code",
   "execution_count": null,
   "metadata": {},
   "outputs": [],
   "source": [
    "pride_data['bear']\n",
    "pride_data['bear']['palette_rgb'] = [(101, 55, 0), (202, 107, 2), (252, 225, 102), (255, 228, 181), (255, 255, 255), (83, 98, 103), (0, 0, 0), (0, 0, 0)]\n",
    "pride_data['bear']['palette_name'] =  [palette_lookup[x] for x in pride_data['bear']['palette_rgb']]\n",
    "pride_data['bear']['stripe_palette'] = [(101, 55, 0), (202, 107, 2), (252, 225, 102), (255, 228, 181), (255, 255, 255), (83, 98, 103), (0, 0, 0)]\n",
    "pride_data['bear']['symbol_palette'] = [(0, 0, 0)]\n",
    "# color_swatch(pride_data['bear']['palette_rgb'])\n",
    "# pride_data['bear']"
   ]
  },
  {
   "cell_type": "code",
   "execution_count": null,
   "metadata": {},
   "outputs": [],
   "source": [
    "%run flags.py\n",
    "for pride_flag in main_flags:\n",
    "    flag = Flag(pride_flag)\n",
    "    flag.final_image(show = False, save = True)"
   ]
  },
  {
   "cell_type": "code",
   "execution_count": null,
   "metadata": {},
   "outputs": [],
   "source": [
    "pride_data"
   ]
  },
  {
   "cell_type": "code",
   "execution_count": null,
   "metadata": {},
   "outputs": [],
   "source": [
    "import json\n",
    "with open('flag_data.json', 'w') as outfile:\n",
    "    json.dump(pride_data, outfile)"
   ]
  },
  {
   "cell_type": "code",
   "execution_count": null,
   "metadata": {},
   "outputs": [],
   "source": [
    "json.dumps(pride_data)"
   ]
  },
  {
   "cell_type": "code",
   "execution_count": null,
   "metadata": {},
   "outputs": [],
   "source": [
    "type(pride_data)"
   ]
  },
  {
   "cell_type": "code",
   "execution_count": null,
   "metadata": {},
   "outputs": [],
   "source": []
  }
 ]
}